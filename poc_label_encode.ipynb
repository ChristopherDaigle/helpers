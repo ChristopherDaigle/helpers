{
 "cells": [
  {
   "cell_type": "code",
   "execution_count": 1,
   "metadata": {},
   "outputs": [],
   "source": [
    "import pandas as pd\n",
    "import numpy as np\n",
    "from sklearn.model_selection import train_test_split\n",
    "import warnings"
   ]
  },
  {
   "cell_type": "code",
   "execution_count": 2,
   "metadata": {},
   "outputs": [],
   "source": [
    "df = pd.DataFrame({'col_a': sorted(list('qwertyuiopasdfghjklzxcvbnm')* 7)})"
   ]
  },
  {
   "cell_type": "code",
   "execution_count": 3,
   "metadata": {},
   "outputs": [],
   "source": [
    "X_train, X_test = train_test_split(df, test_size=0.3, random_state=0)"
   ]
  },
  {
   "cell_type": "code",
   "execution_count": 4,
   "metadata": {},
   "outputs": [],
   "source": [
    "## Make it to where no a, b, c, or d are present in the training data,\n",
    "## but we know they are in the testing data\n",
    "warnings.filterwarnings(\"ignore\")\n",
    "X_train.loc[X_train['col_a'].isin(['a','b', 'c', 'd']),'col_a'] = 'e'\n",
    "warnings.filterwarnings(\"default\")"
   ]
  },
  {
   "cell_type": "code",
   "execution_count": 5,
   "metadata": {},
   "outputs": [],
   "source": [
    "def unseen_data_dict(\n",
    "    X\n",
    "    ,X_0:list\n",
    "    ,col:str):\n",
    "    \"\"\"\n",
    "    \"\"\"\n",
    "    # Identify unique values of X\n",
    "    unique_X_set = set(X[col].unique())\n",
    "    unique_X_list = sorted(list(unique_X_set))\n",
    "    # Identify unique values in each df in X_0\n",
    "    unique_X0_list =  unique_values_list(X_0,col)\n",
    "    # Identify which values in X_0 are not in X\n",
    "    unseen_values = set(unique_X0_list).difference(unique_X_set)\n",
    "    # Create a dictionary mapping of all unique values in X to a float value\n",
    "    mapping_dict = {item: float(mapping) for mapping, item in enumerate(unique_X_list)}\n",
    "    # Create a variable with the value of max(mapping_dict.values()) + 1\n",
    "    unseen_value = max(mapping_dict.values()) + 1\n",
    "    # Add each unseen value in X_0 to the mapping dictionary, but assign the value of the defined variable instead of the floating counter\n",
    "    unseen_map = {item: unseen_value for item in unseen_values}\n",
    "    mapping_dict.update(unseen_map)\n",
    "    \n",
    "    return mapping_dict\n",
    "\n",
    "\n",
    "def unique_values_list(X_0:list,col:str):\n",
    "    unique_X0_list = []\n",
    "    for df in X_0:\n",
    "        unique_X0_list += list(set(df[col].unique()))\n",
    "    unique_X0_list = list(unique_X0_list)\n",
    "\n",
    "    return unique_X0_list\n",
    "\n",
    "\n",
    "def unseen_data_mapper(\n",
    "    X\n",
    "    ,mapping_dict\n",
    "    ,X_0:list\n",
    "    ,col:str\n",
    "    ,suffix:str='_enc'):\n",
    "    \"\"\"\n",
    "    \"\"\"\n",
    "    warnings.filterwarnings(\"ignore\")\n",
    "    df_list = X_0+[X]\n",
    "    for df in df_list:\n",
    "        df[col+suffix] = df[col].map(mapping_dict)\n",
    "    warnings.filterwarnings(\"default\")"
   ]
  },
  {
   "cell_type": "code",
   "execution_count": 6,
   "metadata": {},
   "outputs": [
    {
     "data": {
      "text/html": [
       "<div>\n",
       "<style scoped>\n",
       "    .dataframe tbody tr th:only-of-type {\n",
       "        vertical-align: middle;\n",
       "    }\n",
       "\n",
       "    .dataframe tbody tr th {\n",
       "        vertical-align: top;\n",
       "    }\n",
       "\n",
       "    .dataframe thead th {\n",
       "        text-align: right;\n",
       "    }\n",
       "</style>\n",
       "<table border=\"1\" class=\"dataframe\">\n",
       "  <thead>\n",
       "    <tr style=\"text-align: right;\">\n",
       "      <th></th>\n",
       "      <th>col_a</th>\n",
       "    </tr>\n",
       "  </thead>\n",
       "  <tbody>\n",
       "    <tr>\n",
       "      <th>94</th>\n",
       "      <td>n</td>\n",
       "    </tr>\n",
       "    <tr>\n",
       "      <th>18</th>\n",
       "      <td>c</td>\n",
       "    </tr>\n",
       "    <tr>\n",
       "      <th>33</th>\n",
       "      <td>e</td>\n",
       "    </tr>\n",
       "    <tr>\n",
       "      <th>98</th>\n",
       "      <td>o</td>\n",
       "    </tr>\n",
       "    <tr>\n",
       "      <th>181</th>\n",
       "      <td>z</td>\n",
       "    </tr>\n",
       "  </tbody>\n",
       "</table>\n",
       "</div>"
      ],
      "text/plain": [
       "    col_a\n",
       "94      n\n",
       "18      c\n",
       "33      e\n",
       "98      o\n",
       "181     z"
      ]
     },
     "execution_count": 6,
     "metadata": {},
     "output_type": "execute_result"
    }
   ],
   "source": [
    "X_test.head()"
   ]
  },
  {
   "cell_type": "code",
   "execution_count": 7,
   "metadata": {},
   "outputs": [],
   "source": [
    "unseen_mapping = unseen_data_dict(X=X_train, X_0=[X_test], col='col_a')"
   ]
  },
  {
   "cell_type": "code",
   "execution_count": 8,
   "metadata": {},
   "outputs": [],
   "source": [
    "unseen_data_mapper(X_train,X_0=[X_test],col='col_a', mapping_dict=unseen_mapping)"
   ]
  },
  {
   "cell_type": "code",
   "execution_count": 9,
   "metadata": {},
   "outputs": [
    {
     "data": {
      "text/html": [
       "<div>\n",
       "<style scoped>\n",
       "    .dataframe tbody tr th:only-of-type {\n",
       "        vertical-align: middle;\n",
       "    }\n",
       "\n",
       "    .dataframe tbody tr th {\n",
       "        vertical-align: top;\n",
       "    }\n",
       "\n",
       "    .dataframe thead th {\n",
       "        text-align: right;\n",
       "    }\n",
       "</style>\n",
       "<table border=\"1\" class=\"dataframe\">\n",
       "  <thead>\n",
       "    <tr style=\"text-align: right;\">\n",
       "      <th></th>\n",
       "      <th>col_a</th>\n",
       "      <th>col_a_enc</th>\n",
       "    </tr>\n",
       "  </thead>\n",
       "  <tbody>\n",
       "    <tr>\n",
       "      <th>94</th>\n",
       "      <td>n</td>\n",
       "      <td>9.0</td>\n",
       "    </tr>\n",
       "    <tr>\n",
       "      <th>18</th>\n",
       "      <td>c</td>\n",
       "      <td>22.0</td>\n",
       "    </tr>\n",
       "    <tr>\n",
       "      <th>33</th>\n",
       "      <td>e</td>\n",
       "      <td>0.0</td>\n",
       "    </tr>\n",
       "    <tr>\n",
       "      <th>98</th>\n",
       "      <td>o</td>\n",
       "      <td>10.0</td>\n",
       "    </tr>\n",
       "    <tr>\n",
       "      <th>181</th>\n",
       "      <td>z</td>\n",
       "      <td>21.0</td>\n",
       "    </tr>\n",
       "  </tbody>\n",
       "</table>\n",
       "</div>"
      ],
      "text/plain": [
       "    col_a  col_a_enc\n",
       "94      n        9.0\n",
       "18      c       22.0\n",
       "33      e        0.0\n",
       "98      o       10.0\n",
       "181     z       21.0"
      ]
     },
     "execution_count": 9,
     "metadata": {},
     "output_type": "execute_result"
    }
   ],
   "source": [
    "X_test.head()"
   ]
  },
  {
   "cell_type": "code",
   "execution_count": null,
   "metadata": {},
   "outputs": [],
   "source": []
  }
 ],
 "metadata": {
  "kernelspec": {
   "display_name": "venv_nano_ds",
   "language": "python",
   "name": "venv_nano_ds"
  },
  "language_info": {
   "codemirror_mode": {
    "name": "ipython",
    "version": 3
   },
   "file_extension": ".py",
   "mimetype": "text/x-python",
   "name": "python",
   "nbconvert_exporter": "python",
   "pygments_lexer": "ipython3",
   "version": "3.7.6"
  }
 },
 "nbformat": 4,
 "nbformat_minor": 4
}
